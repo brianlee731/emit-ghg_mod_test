{
 "cells": [
  {
   "cell_type": "code",
   "execution_count": null,
   "id": "1251c9f4",
   "metadata": {
    "editable": true,
    "slideshow": {
     "slide_type": ""
    },
    "tags": []
   },
   "outputs": [],
   "source": [
    "import os\n",
    "import pathlib\n",
    "\n",
    "# Application packages\n",
    "#from tabulate import tabulate\n",
    "import netCDF4\n",
    "\n",
    "# stage_in packages\n",
    "from unity_sds_client.resources.collection import Collection\n",
    "\n",
    "# stage_out packages\n",
    "from datetime import datetime, timezone\n",
    "from unity_sds_client.resources.dataset import Dataset\n",
    "from unity_sds_client.resources.data_file import DataFile\n",
    "\n",
    "import subprocess"
   ]
  },
  {
   "cell_type": "code",
   "execution_count": null,
   "id": "04ac7f2d",
   "metadata": {
    "editable": true,
    "slideshow": {
     "slide_type": ""
    },
    "tags": [
     "parameters"
    ]
   },
   "outputs": [],
   "source": [
    "input_stac_collection_file = '/unity/ads/users/jfahlen/20230620t084426/catalog_local.json' # type: stage-in\n",
    "output_stac_catalog_dir    = '/unity/ads/users/jfahlen/20230620t084426/'                    # type: stage-out"
   ]
  },
  {
   "cell_type": "code",
   "execution_count": null,
   "id": "cf866e02-08f8-4c7a-bf10-c14ab8601953",
   "metadata": {},
   "outputs": [],
   "source": [
    "local_output_location      = os.path.join(output_stac_catalog_dir,'emit20230620t084426')\n",
    "\n",
    "# Filename written to the working directory\n",
    "#summary_table_filename = \"summary_table.txt\"\n",
    "\n",
    "output_mf_filename = local_output_location + '_ch4_mf'\n",
    "output_mf_hdr_filename = local_output_location + '_ch4_mf.hdr'\n",
    "\n",
    "#For eventual catalogging of this file in the unity environment\n",
    "output_collection=\"example-emit_ghg_jay\"\n",
    "\n",
    "print(output_mf_filename)\n",
    "print(output_mf_hdr_filename)"
   ]
  },
  {
   "cell_type": "markdown",
   "id": "60b7fa38",
   "metadata": {
    "editable": true,
    "slideshow": {
     "slide_type": ""
    },
    "tags": []
   },
   "source": [
    "# Import Files from STAC Item Collection\n",
    "\n",
    "Load filenames from the stage_in STAC item collection file"
   ]
  },
  {
   "cell_type": "code",
   "execution_count": null,
   "id": "3a09d57c",
   "metadata": {},
   "outputs": [],
   "source": [
    "#inp_collection = Collection.from_stac(input_stac_collection_file)\n",
    "inp_collection = Collection.from_stac(input_stac_collection_file)\n",
    "data_filenames = inp_collection.data_locations()\n",
    "\n",
    "os.mkdir('~/output/')\n",
    "cmd = 'aws s3 cp s3://emit-dev-unity-data/emit_ghg_bucket/dataset_ch4_full.hdf5 ~/output/'\n",
    "subprocess.call(cmd, shell = True)\n",
    "\n",
    "#print(data_filenames)"
   ]
  },
  {
   "cell_type": "code",
   "execution_count": null,
   "id": "640a3208-a2ad-4a67-ada8-c4b310f2f2a7",
   "metadata": {},
   "outputs": [],
   "source": [
    "# Call ghg_process.py\n",
    "import ghg_process\n",
    "\n",
    "l1b_rad_filename = [x for x in data_filenames if 'L1B_RAD_001' in x and '.nc' in x][0]\n",
    "l1b_obs_filename = [x for x in data_filenames if 'L1B_OBS_001' in x and '.nc' in x][0]\n",
    "l2a_mask_filename = [x for x in data_filenames if 'L2A_MASK_001' in x and '.nc' in x][0]\n",
    "#print(l1b_rad_filename,l1b_obs_filename,l2a_mask_filename)\n",
    "run_cmd = f'python ghg_process.py {l1b_rad_filename} {l1b_obs_filename} {l1b_rad_filename} junk ' + \\\n",
    "          f'{l2a_mask_filename} {l2a_mask_filename} {local_output_location} ' + \\\n",
    "          f'--state_subs {l2a_mask_filename} --overwrite'\n",
    "#print(run_cmd)\n",
    "subprocess.call(run_cmd, shell = True)"
   ]
  },
  {
   "cell_type": "markdown",
   "id": "f47811fc-c41a-4e75-8290-6f04425bab52",
   "metadata": {},
   "source": [
    "# Create stage-out item catalog"
   ]
  },
  {
   "cell_type": "code",
   "execution_count": null,
   "id": "b4aa5d3b",
   "metadata": {
    "editable": true,
    "slideshow": {
     "slide_type": ""
    },
    "tags": []
   },
   "outputs": [],
   "source": [
    "# Create a collection\n",
    "out_collection  = Collection(output_collection)\n",
    "    \n",
    "# Create a Dataset for the collection\n",
    "dataset = Dataset(\n",
    "    name=output_mf_filename + '_dataset', \n",
    "    collection_id=out_collection.collection_id, \n",
    "    start_time=datetime.utcnow().replace(tzinfo=timezone.utc).isoformat(), \n",
    "    end_time=datetime.utcnow().replace(tzinfo=timezone.utc).isoformat(),\n",
    "    creation_time=datetime.utcnow().replace(tzinfo=timezone.utc).isoformat(),\n",
    ")\n",
    "\n",
    "# Add output file(s) to the dataset\n",
    "dataset.add_data_file(DataFile(\"ENVI\", output_mf_filename, [\"data\"]))\n",
    "dataset.add_data_file(DataFile(\"ENVI_hdr\", output_mf_hdr_filename, [\"data\"]))\n",
    "\n",
    "\n",
    "#when we run \"to_stac\" below, this file  will be generated. this needs to be added to the stac file itself for future reference.\n",
    "dataset.add_data_file(DataFile(\"json\", output_mf_filename+'.json', [\"metadata\"] ))\n",
    "\n",
    "\n",
    "# Add the dataset to the collection\n",
    "#out_collection.add_dataset(dataset)\n",
    "out_collection._datasets.append(dataset)\n",
    "\n",
    "Collection.to_stac(out_collection, output_stac_catalog_dir)"
   ]
  },
  {
   "cell_type": "code",
   "execution_count": null,
   "id": "14f240b6-b5ea-4bf8-8764-ecf12eee6c16",
   "metadata": {},
   "outputs": [],
   "source": [
    "print(dataset)"
   ]
  },
  {
   "cell_type": "code",
   "execution_count": null,
   "id": "7b388e52-bc38-4d9c-b20d-9f4b0aacd342",
   "metadata": {},
   "outputs": [],
   "source": []
  }
 ],
 "metadata": {
  "celltoolbar": "Tags",
  "kernelspec": {
   "display_name": "Python 3 (ipykernel)",
   "language": "python",
   "name": "python3"
  },
  "language_info": {
   "codemirror_mode": {
    "name": "ipython",
    "version": 3
   },
   "file_extension": ".py",
   "mimetype": "text/x-python",
   "name": "python",
   "nbconvert_exporter": "python",
   "pygments_lexer": "ipython3",
   "version": "3.11.6"
  }
 },
 "nbformat": 4,
 "nbformat_minor": 5
}
