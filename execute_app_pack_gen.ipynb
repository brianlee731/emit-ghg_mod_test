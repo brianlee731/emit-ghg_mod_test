{
 "cells": [
  {
   "cell_type": "code",
   "execution_count": 19,
   "id": "f8209773-02dc-4233-9edc-8c0405cdcefc",
   "metadata": {},
   "outputs": [],
   "source": [
    "import requests\n",
    "\n",
    "from unity_sds_client.unity import Unity\n",
    "from unity_sds_client.unity import UnityEnvironments"
   ]
  },
  {
   "cell_type": "code",
   "execution_count": 20,
   "id": "5693228e-67b4-4a26-b65d-ec868fcfd0db",
   "metadata": {},
   "outputs": [
    {
     "name": "stdin",
     "output_type": "stream",
     "text": [
      "Please enter your Unity username:  jfahlen\n",
      "Please enter your Unity password:  ········\n"
     ]
    }
   ],
   "source": [
    "# if you're reading this as a user, you probably have a 'TEST' or 'PROD' user account. This will be updated to work though unity-py directly.t\n",
    "s = Unity(UnityEnvironments.PROD)\n",
    "token = s._session.get_auth().get_token()"
   ]
  },
  {
   "cell_type": "code",
   "execution_count": 25,
   "id": "dabfc3b8-e2c7-4278-90fb-ce22897296c0",
   "metadata": {},
   "outputs": [],
   "source": [
    "# Requires User to change the path to the application URL\n",
    "clone_url = \"https://github.com/jfahlen/emit-ghg_test.git\""
   ]
  },
  {
   "cell_type": "code",
   "execution_count": 26,
   "id": "12f49227-7a72-4c71-a831-889b88ab617b",
   "metadata": {},
   "outputs": [],
   "source": [
    "api_url = \"https://api.mdps.mcp.nasa.gov/ads-acb/mcp-clone\"\n",
    "\n",
    "response = requests.get(api_url, \n",
    "    headers = { 'content-type': 'application/json',\n",
    "                'Authorization': 'Bearer ' + token,\n",
    "                'clone_url': clone_url })"
   ]
  },
  {
   "cell_type": "code",
   "execution_count": 27,
   "id": "dd3da634-2d63-463e-906e-4efe841e87a6",
   "metadata": {},
   "outputs": [
    {
     "data": {
      "text/plain": [
       "200"
      ]
     },
     "execution_count": 27,
     "metadata": {},
     "output_type": "execute_result"
    }
   ],
   "source": [
    "response.status_code"
   ]
  },
  {
   "cell_type": "code",
   "execution_count": 28,
   "id": "16e6f01f-1bac-4d78-993c-c20a586d0f43",
   "metadata": {},
   "outputs": [
    {
     "data": {
      "text/plain": [
       "b'{\"clone_url\": \"https://github.com/jfahlen/emit-ghg_test.git\", \"log_group_name\": \"/aws/lambda/Unity-ADS--MCP-Clone\", \"apg_tag\": \"0.4.1\", \"uag_tag\": \"0.3.0\"}'"
      ]
     },
     "execution_count": 28,
     "metadata": {},
     "output_type": "execute_result"
    }
   ],
   "source": [
    "response.content"
   ]
  },
  {
   "cell_type": "code",
   "execution_count": null,
   "id": "63b9a6e3-35da-47be-8737-c845b0b43c51",
   "metadata": {},
   "outputs": [],
   "source": []
  }
 ],
 "metadata": {
  "kernelspec": {
   "display_name": "Python [conda env:root] *",
   "language": "python",
   "name": "conda-root-py"
  },
  "language_info": {
   "codemirror_mode": {
    "name": "ipython",
    "version": 3
   },
   "file_extension": ".py",
   "mimetype": "text/x-python",
   "name": "python",
   "nbconvert_exporter": "python",
   "pygments_lexer": "ipython3",
   "version": "3.11.6"
  }
 },
 "nbformat": 4,
 "nbformat_minor": 5
}
