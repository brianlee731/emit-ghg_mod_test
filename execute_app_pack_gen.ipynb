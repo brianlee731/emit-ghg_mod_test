{
 "cells": [
  {
   "cell_type": "code",
   "execution_count": 7,
   "id": "f8209773-02dc-4233-9edc-8c0405cdcefc",
   "metadata": {},
   "outputs": [],
   "source": [
    "import requests\n",
    "\n",
    "from unity_sds_client.unity import Unity\n",
    "from unity_sds_client.unity import UnityEnvironments"
   ]
  },
  {
   "cell_type": "code",
   "execution_count": 8,
   "id": "5693228e-67b4-4a26-b65d-ec868fcfd0db",
   "metadata": {},
   "outputs": [
    {
     "name": "stdin",
     "output_type": "stream",
     "text": [
      "Please enter your Unity username:  leebrian\n",
      "Please enter your Unity password:  ········\n"
     ]
    },
    {
     "name": "stdout",
     "output_type": "stream",
     "text": [
      "eyJraWQiOiJ6ejltTUhNbkF3VncwUitiXC85SjIyb3N1Z2FcL21veExnMVRXYlVIOWZtcnc9IiwiYWxnIjoiUlMyNTYifQ.eyJzdWIiOiI1NmYzZWIzNC1iZTdlLTQxZTctYWY4Yy01OTRhYjgyNDIyNDciLCJjb2duaXRvOmdyb3VwcyI6WyJVbml0eV9WaWV3ZXIiXSwiaXNzIjoiaHR0cHM6XC9cL2NvZ25pdG8taWRwLnVzLXdlc3QtMi5hbWF6b25hd3MuY29tXC91cy13ZXN0LTJfUzJSZTFGSXhOIiwiY2xpZW50X2lkIjoiN3ZlaGxscGxib25lNnA0dXNxZ3V0cXVuMzUiLCJvcmlnaW5fanRpIjoiZGYwNDkxMjEtYzllMi00OGVjLTg2MjktZTkxOWU1MmM0OGJiIiwiZXZlbnRfaWQiOiJlNzAwYWVhYS0zZGYzLTQzMTItODcyMC01MjIxZGRkMjI2OWUiLCJ0b2tlbl91c2UiOiJhY2Nlc3MiLCJzY29wZSI6ImF3cy5jb2duaXRvLnNpZ25pbi51c2VyLmFkbWluIiwiYXV0aF90aW1lIjoxNzM4ODI2NjE5LCJleHAiOjE3Mzg4MzAyMTksImlhdCI6MTczODgyNjYxOSwianRpIjoiZGExMDFiZWQtZjZiYy00NTQ0LThiYzEtNjI4MDQ2MTAxYTNiIiwidXNlcm5hbWUiOiJsZWVicmlhbiJ9.bfUODvePXGIWZdGT5nU6JbotcuKj81MThCEQeN4ZMG-iwg2VK_7MD1zSjsRtD6fTnwZBvowDcAMZx_GaHxNeDceJvNFNBvqpeJ0FDM6hD6D1sjHVejj2qVo7_ewfEp22w8d_nnwnvy4N0zJhtg3Mw8oJf4e_9jZUHSXzlCv5Cikb0hjdy4MSJeDOzXuRjx-4Kyxj1PpvPR_PKvZOwkK4SvEAh5yIE3vB54PfnW2y8sA6mHo0IUNSp6IugOka-hyXCc0L7-643ukK6rsErn3waJgN38tqBEPodNCG-P4KJ3bL1pAeobOEEUDfbU1f6MlZrSBJhZGP46NyOOmIYQnqoA\n"
     ]
    }
   ],
   "source": [
    "# if you're reading this as a user, you probably have a 'TEST' or 'PROD' user account. This will be updated to work though unity-py directly.t\n",
    "s = Unity(UnityEnvironments.PROD)\n",
    "token = s._session.get_auth().get_token()\n",
    "print(token)"
   ]
  },
  {
   "cell_type": "code",
   "execution_count": 9,
   "id": "dabfc3b8-e2c7-4278-90fb-ce22897296c0",
   "metadata": {},
   "outputs": [],
   "source": [
    "# Requires User to change the path to the application URL\n",
    "clone_url = \"https://github.com/brianlee731/emit-ghg_mod_test.git\""
   ]
  },
  {
   "cell_type": "code",
   "execution_count": 10,
   "id": "12f49227-7a72-4c71-a831-889b88ab617b",
   "metadata": {},
   "outputs": [],
   "source": [
    "api_url = \"https://api.mdps.mcp.nasa.gov/ads-acb/mcp-clone\"\n",
    "\n",
    "response = requests.get(api_url, \n",
    "    headers = { 'content-type': 'application/json',\n",
    "                'Authorization': 'Bearer ' + token,\n",
    "                'clone_url': clone_url,\n",
    "                'apg_tag': '1.0.0',\n",
    "                'uag_tag': '1.0.0'})"
   ]
  },
  {
   "cell_type": "code",
   "execution_count": 11,
   "id": "dd3da634-2d63-463e-906e-4efe841e87a6",
   "metadata": {},
   "outputs": [
    {
     "data": {
      "text/plain": [
       "200"
      ]
     },
     "execution_count": 11,
     "metadata": {},
     "output_type": "execute_result"
    }
   ],
   "source": [
    "response.status_code"
   ]
  },
  {
   "cell_type": "code",
   "execution_count": 12,
   "id": "16e6f01f-1bac-4d78-993c-c20a586d0f43",
   "metadata": {},
   "outputs": [
    {
     "data": {
      "text/plain": [
       "b'{\"clone_url\": \"https://github.com/brianlee731/emit-ghg_mod_test.git\", \"log_group_name\": \"/aws/lambda/Unity-ADS--MCP-Clone\", \"apg_tag\": \"1.0.0\", \"uag_tag\": \"1.0.0\"}'"
      ]
     },
     "execution_count": 12,
     "metadata": {},
     "output_type": "execute_result"
    }
   ],
   "source": [
    "response.content"
   ]
  },
  {
   "cell_type": "code",
   "execution_count": null,
   "id": "430c4856-f8c4-49e3-8ec9-840f7e97b2ee",
   "metadata": {},
   "outputs": [],
   "source": []
  }
 ],
 "metadata": {
  "kernelspec": {
   "display_name": "Python [conda env:base] *",
   "language": "python",
   "name": "conda-base-py"
  },
  "language_info": {
   "codemirror_mode": {
    "name": "ipython",
    "version": 3
   },
   "file_extension": ".py",
   "mimetype": "text/x-python",
   "name": "python",
   "nbconvert_exporter": "python",
   "pygments_lexer": "ipython3",
   "version": "3.11.6"
  }
 },
 "nbformat": 4,
 "nbformat_minor": 5
}
